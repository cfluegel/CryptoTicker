{
 "cells": [
  {
   "cell_type": "code",
   "execution_count": 1,
   "metadata": {},
   "outputs": [
    {
     "name": "stdout",
     "output_type": "stream",
     "text": [
      "200\n"
     ]
    }
   ],
   "source": [
    "import requests\n",
    "import json\n",
    "\n",
    "url = \"https://api.coinmarketcap.com/v1/ticker/?convert=EUR\"\n",
    "parameter =  {\n",
    "    \"convert\": \"EUR\",\n",
    "    \"limit\": 100\n",
    "}\n",
    "r = requests.get(url, params=parameter)\n",
    "print(r.status_code)\n",
    "if r.status_code == 200:\n",
    "    rr = json.loads(r.text)\n",
    "    # print(rr)"
   ]
  },
  {
   "cell_type": "code",
   "execution_count": 18,
   "metadata": {},
   "outputs": [
    {
     "name": "stdout",
     "output_type": "stream",
     "text": [
      "{'id': 'bytecoin-bcn', '24h_volume_eur': '13567941.816', 'max_supply': '184470000000', 'name': 'Bytecoin', 'symbol': 'BCN', 'market_cap_eur': '743150980.0', 'rank': '30', 'percent_change_7d': '90.21', 'percent_change_24h': '47.45', 'price_usd': '0.00476681', 'percent_change_1h': '11.18', 'price_btc': '0.00000024', 'market_cap_usd': '873534781.0', 'price_eur': '0.0040553159', 'available_supply': '183253534612', 'last_updated': '1513527267', '24h_volume_usd': '15948400.0', 'total_supply': '183253534612'}\n"
     ]
    }
   ],
   "source": [
    "for crypto in rr:\n",
    "    if crypto[\"symbol\"] == \"BCN\":\n",
    "        print(crypto)\n",
    "        "
   ]
  },
  {
   "cell_type": "code",
   "execution_count": 1,
   "metadata": {},
   "outputs": [
    {
     "ename": "NameError",
     "evalue": "name 'rr' is not defined",
     "output_type": "error",
     "traceback": [
      "\u001b[0;31m---------------------------------------------------------------------------\u001b[0m",
      "\u001b[0;31mNameError\u001b[0m                                 Traceback (most recent call last)",
      "\u001b[0;32m<ipython-input-1-f299b6a847ff>\u001b[0m in \u001b[0;36m<module>\u001b[0;34m()\u001b[0m\n\u001b[0;32m----> 1\u001b[0;31m \u001b[0;32mfor\u001b[0m \u001b[0mcrypto\u001b[0m \u001b[0;32min\u001b[0m \u001b[0mrr\u001b[0m\u001b[0;34m:\u001b[0m\u001b[0;34m\u001b[0m\u001b[0m\n\u001b[0m\u001b[1;32m      2\u001b[0m     \u001b[0mprint\u001b[0m\u001b[0;34m(\u001b[0m\u001b[0;34m\"{}\\t{}\\t{}\"\u001b[0m\u001b[0;34m.\u001b[0m\u001b[0mformat\u001b[0m\u001b[0;34m(\u001b[0m\u001b[0mcrypto\u001b[0m\u001b[0;34m[\u001b[0m\u001b[0;34m'symbol'\u001b[0m\u001b[0;34m]\u001b[0m\u001b[0;34m,\u001b[0m\u001b[0mcrypto\u001b[0m\u001b[0;34m[\u001b[0m\u001b[0;34m'price_eur'\u001b[0m\u001b[0;34m]\u001b[0m\u001b[0;34m,\u001b[0m \u001b[0mcrypto\u001b[0m\u001b[0;34m[\u001b[0m\u001b[0;34m'price_usd'\u001b[0m\u001b[0;34m]\u001b[0m\u001b[0;34m)\u001b[0m\u001b[0;34m)\u001b[0m\u001b[0;34m\u001b[0m\u001b[0m\n\u001b[1;32m      3\u001b[0m \u001b[0;34m\u001b[0m\u001b[0m\n",
      "\u001b[0;31mNameError\u001b[0m: name 'rr' is not defined"
     ]
    }
   ],
   "source": [
    "for crypto in rr:\n",
    "    print(\"{}\\t{}\\t{}\".format(crypto['symbol'],crypto['price_eur'], crypto['price_usd']))\n",
    "    "
   ]
  },
  {
   "cell_type": "code",
   "execution_count": null,
   "metadata": {},
   "outputs": [],
   "source": []
  }
 ],
 "metadata": {
  "kernelspec": {
   "display_name": "Python 3",
   "language": "python",
   "name": "python3"
  },
  "language_info": {
   "codemirror_mode": {
    "name": "ipython",
    "version": 3
   },
   "file_extension": ".py",
   "mimetype": "text/x-python",
   "name": "python",
   "nbconvert_exporter": "python",
   "pygments_lexer": "ipython3",
   "version": "3.5.2"
  }
 },
 "nbformat": 4,
 "nbformat_minor": 2
}
