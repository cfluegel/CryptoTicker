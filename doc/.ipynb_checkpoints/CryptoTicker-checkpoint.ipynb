{
 "cells": [
  {
   "cell_type": "code",
   "execution_count": 14,
   "metadata": {},
   "outputs": [
    {
     "name": "stdout",
     "output_type": "stream",
     "text": [
      "200\n"
     ]
    }
   ],
   "source": [
    "import requests\n",
    "import json\n",
    "\n",
    "url = \"https://api.coinmarketcap.com/v1/ticker/?convert=EUR\"\n",
    "\n",
    "r = requests.get(url)\n",
    "print(r.status_code)\n",
    "if r.status_code == 200:\n",
    "    rr = json.loads(r.text)\n",
    "    # print(rr)"
   ]
  },
  {
   "cell_type": "code",
   "execution_count": 12,
   "metadata": {},
   "outputs": [
    {
     "name": "stdout",
     "output_type": "stream",
     "text": [
      "{'id': 'bytecoin-bcn', '24h_volume_eur': '13978423.866', 'max_supply': '184470000000', 'name': 'Bytecoin', 'symbol': 'BCN', 'market_cap_eur': '688262875.0', 'rank': '31', 'percent_change_7d': '76.78', 'percent_change_24h': '43.11', 'price_usd': '0.00441474', 'percent_change_1h': '3.15', 'price_btc': '0.00000023', 'market_cap_usd': '809016709.0', 'price_eur': '0.0037557959', 'available_supply': '183253534612', 'last_updated': '1513523362', '24h_volume_usd': '16430900.0', 'total_supply': '183253534612'}\n"
     ]
    }
   ],
   "source": [
    "for crypto in rr:\n",
    "    if crypto[\"symbol\"] == \"BCN\":\n",
    "        print(crypto)\n",
    "        "
   ]
  },
  {
   "cell_type": "code",
   "execution_count": null,
   "metadata": {},
   "outputs": [],
   "source": [
    "for crypto in rr:\n",
    "    print(\"%s\")"
   ]
  }
 ],
 "metadata": {
  "kernelspec": {
   "display_name": "Python 3",
   "language": "python",
   "name": "python3"
  },
  "language_info": {
   "codemirror_mode": {
    "name": "ipython",
    "version": 3
   },
   "file_extension": ".py",
   "mimetype": "text/x-python",
   "name": "python",
   "nbconvert_exporter": "python",
   "pygments_lexer": "ipython3",
   "version": "3.5.2"
  }
 },
 "nbformat": 4,
 "nbformat_minor": 2
}
